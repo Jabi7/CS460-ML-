{
 "cells": [
  {
   "cell_type": "markdown",
   "id": "acquired-bikini",
   "metadata": {},
   "source": [
    "# Implementing Vanilla Perceptron algorithm. "
   ]
  },
  {
   "cell_type": "code",
   "execution_count": 163,
   "id": "forward-township",
   "metadata": {},
   "outputs": [],
   "source": [
    "import numpy as np\n",
    "import matplotlib.pyplot as plt\n",
    "import pandas as pd"
   ]
  },
  {
   "cell_type": "markdown",
   "id": "surrounded-metadata",
   "metadata": {},
   "source": [
    "### Vanilla Perceptron model"
   ]
  },
  {
   "cell_type": "code",
   "execution_count": 164,
   "id": "written-quantity",
   "metadata": {},
   "outputs": [],
   "source": [
    "def Vanilla(X, Y, Xt, Yt, epochs = 4):\n",
    "    # no: of data set\n",
    "    n = X.shape[0]\n",
    "    nt = Xt.shape[0]\n",
    "    # no: 0f fetures\n",
    "    f = X.shape[1]\n",
    "    ft = Xt.shape[1]\n",
    "    # weights and bias\n",
    "    w = np.ones(f)\n",
    "    b = 0\n",
    "    \n",
    "    eff = []\n",
    "    for e in range(epochs):\n",
    "        # training\n",
    "        for i in range(n):\n",
    "            # action\n",
    "            a = np.dot(w, X[i]) + b\n",
    "            \n",
    "            # update weigts and bias\n",
    "            if (Y[i]*a <= 0):\n",
    "                w += np.multiply(X[i], Y[i])\n",
    "                b += Y[i] \n",
    "        \n",
    "        # testing\n",
    "        s = 0\n",
    "        for i in range(nt):\n",
    "            # action\n",
    "            a = np.dot(w, Xt[i]) + b\n",
    "            if np.sign(a) == Yt[i]:\n",
    "                s += 1\n",
    "        print('no: of false prediction in epoch '+str(e)+':', nt-s)\n",
    "        # efficiancy\n",
    "        ef = s/nt*100\n",
    "        eff.append(ef)\n",
    "        \n",
    "    return eff, w, b\n",
    "                \n",
    "        "
   ]
  },
  {
   "cell_type": "markdown",
   "id": "surrounded-buffer",
   "metadata": {},
   "source": [
    "### Voted Perceptron model"
   ]
  },
  {
   "cell_type": "code",
   "execution_count": 165,
   "id": "moral-machinery",
   "metadata": {},
   "outputs": [],
   "source": [
    "def Voted(X, Y, Xt, Yt, epochs = 10):\n",
    "    # no: of data set\n",
    "    n = X.shape[0]\n",
    "    nt = Xt.shape[0]\n",
    "    # no: 0f fetures\n",
    "    f = X.shape[1]\n",
    "    ft = Xt.shape[1]\n",
    "    # weights and bias\n",
    "    w = np.ones(f)\n",
    "    b = 0\n",
    "    v = 1\n",
    "    \n",
    "    \n",
    "    eff = []\n",
    "    for e in range(epochs):\n",
    "        \n",
    "        # vote\n",
    "        wv = 0\n",
    "        bv = 0\n",
    "        \n",
    "        # training\n",
    "        for i in range(n):\n",
    "            # action\n",
    "            a = np.dot(w, X[i]) + b\n",
    "            v += 1\n",
    "            # update weigts and bias\n",
    "            if (Y[i]*a <= 0):\n",
    "                wv += np.multiply(w, v)\n",
    "                bv += np.multiply(b, v)\n",
    "                v = 1\n",
    "                w += np.multiply(X[i], Y[i])\n",
    "                b += Y[i] \n",
    "        \n",
    "        # vote udate\n",
    "        w = wv/n\n",
    "        b = bv/n\n",
    "        \n",
    "        # testing\n",
    "        s = 0\n",
    "        for i in range(nt):\n",
    "            # action\n",
    "            a = np.dot(w, Xt[i]) + b\n",
    "            if np.sign(a) == Yt[i]:\n",
    "                s += 1\n",
    "        \n",
    "        print('no: of false prediction in epoch '+str(e)+':', nt-s)    \n",
    "        # efficiancy\n",
    "        ef = s/nt*100\n",
    "        eff.append(ef)\n",
    "        \n",
    "    return eff, w, b\n",
    "                \n",
    "        "
   ]
  },
  {
   "cell_type": "code",
   "execution_count": null,
   "id": "steady-charter",
   "metadata": {},
   "outputs": [],
   "source": []
  },
  {
   "cell_type": "markdown",
   "id": "organized-niagara",
   "metadata": {},
   "source": [
    "## Data set"
   ]
  },
  {
   "cell_type": "code",
   "execution_count": 166,
   "id": "hazardous-concern",
   "metadata": {},
   "outputs": [
    {
     "data": {
      "text/html": [
       "<div>\n",
       "<style scoped>\n",
       "    .dataframe tbody tr th:only-of-type {\n",
       "        vertical-align: middle;\n",
       "    }\n",
       "\n",
       "    .dataframe tbody tr th {\n",
       "        vertical-align: top;\n",
       "    }\n",
       "\n",
       "    .dataframe thead th {\n",
       "        text-align: right;\n",
       "    }\n",
       "</style>\n",
       "<table border=\"1\" class=\"dataframe\">\n",
       "  <thead>\n",
       "    <tr style=\"text-align: right;\">\n",
       "      <th></th>\n",
       "      <th>M</th>\n",
       "      <th>0.455</th>\n",
       "      <th>0.365</th>\n",
       "      <th>0.095</th>\n",
       "      <th>0.514</th>\n",
       "      <th>0.2245</th>\n",
       "      <th>0.101</th>\n",
       "      <th>0.15</th>\n",
       "      <th>15</th>\n",
       "    </tr>\n",
       "  </thead>\n",
       "  <tbody>\n",
       "    <tr>\n",
       "      <th>0</th>\n",
       "      <td>M</td>\n",
       "      <td>0.350</td>\n",
       "      <td>0.265</td>\n",
       "      <td>0.090</td>\n",
       "      <td>0.2255</td>\n",
       "      <td>0.0995</td>\n",
       "      <td>0.0485</td>\n",
       "      <td>0.0700</td>\n",
       "      <td>7</td>\n",
       "    </tr>\n",
       "    <tr>\n",
       "      <th>1</th>\n",
       "      <td>F</td>\n",
       "      <td>0.530</td>\n",
       "      <td>0.420</td>\n",
       "      <td>0.135</td>\n",
       "      <td>0.6770</td>\n",
       "      <td>0.2565</td>\n",
       "      <td>0.1415</td>\n",
       "      <td>0.2100</td>\n",
       "      <td>9</td>\n",
       "    </tr>\n",
       "    <tr>\n",
       "      <th>2</th>\n",
       "      <td>M</td>\n",
       "      <td>0.440</td>\n",
       "      <td>0.365</td>\n",
       "      <td>0.125</td>\n",
       "      <td>0.5160</td>\n",
       "      <td>0.2155</td>\n",
       "      <td>0.1140</td>\n",
       "      <td>0.1550</td>\n",
       "      <td>10</td>\n",
       "    </tr>\n",
       "    <tr>\n",
       "      <th>3</th>\n",
       "      <td>I</td>\n",
       "      <td>0.330</td>\n",
       "      <td>0.255</td>\n",
       "      <td>0.080</td>\n",
       "      <td>0.2050</td>\n",
       "      <td>0.0895</td>\n",
       "      <td>0.0395</td>\n",
       "      <td>0.0550</td>\n",
       "      <td>7</td>\n",
       "    </tr>\n",
       "    <tr>\n",
       "      <th>4</th>\n",
       "      <td>I</td>\n",
       "      <td>0.425</td>\n",
       "      <td>0.300</td>\n",
       "      <td>0.095</td>\n",
       "      <td>0.3515</td>\n",
       "      <td>0.1410</td>\n",
       "      <td>0.0775</td>\n",
       "      <td>0.1200</td>\n",
       "      <td>8</td>\n",
       "    </tr>\n",
       "    <tr>\n",
       "      <th>...</th>\n",
       "      <td>...</td>\n",
       "      <td>...</td>\n",
       "      <td>...</td>\n",
       "      <td>...</td>\n",
       "      <td>...</td>\n",
       "      <td>...</td>\n",
       "      <td>...</td>\n",
       "      <td>...</td>\n",
       "      <td>...</td>\n",
       "    </tr>\n",
       "    <tr>\n",
       "      <th>4171</th>\n",
       "      <td>F</td>\n",
       "      <td>0.565</td>\n",
       "      <td>0.450</td>\n",
       "      <td>0.165</td>\n",
       "      <td>0.8870</td>\n",
       "      <td>0.3700</td>\n",
       "      <td>0.2390</td>\n",
       "      <td>0.2490</td>\n",
       "      <td>11</td>\n",
       "    </tr>\n",
       "    <tr>\n",
       "      <th>4172</th>\n",
       "      <td>M</td>\n",
       "      <td>0.590</td>\n",
       "      <td>0.440</td>\n",
       "      <td>0.135</td>\n",
       "      <td>0.9660</td>\n",
       "      <td>0.4390</td>\n",
       "      <td>0.2145</td>\n",
       "      <td>0.2605</td>\n",
       "      <td>10</td>\n",
       "    </tr>\n",
       "    <tr>\n",
       "      <th>4173</th>\n",
       "      <td>M</td>\n",
       "      <td>0.600</td>\n",
       "      <td>0.475</td>\n",
       "      <td>0.205</td>\n",
       "      <td>1.1760</td>\n",
       "      <td>0.5255</td>\n",
       "      <td>0.2875</td>\n",
       "      <td>0.3080</td>\n",
       "      <td>9</td>\n",
       "    </tr>\n",
       "    <tr>\n",
       "      <th>4174</th>\n",
       "      <td>F</td>\n",
       "      <td>0.625</td>\n",
       "      <td>0.485</td>\n",
       "      <td>0.150</td>\n",
       "      <td>1.0945</td>\n",
       "      <td>0.5310</td>\n",
       "      <td>0.2610</td>\n",
       "      <td>0.2960</td>\n",
       "      <td>10</td>\n",
       "    </tr>\n",
       "    <tr>\n",
       "      <th>4175</th>\n",
       "      <td>M</td>\n",
       "      <td>0.710</td>\n",
       "      <td>0.555</td>\n",
       "      <td>0.195</td>\n",
       "      <td>1.9485</td>\n",
       "      <td>0.9455</td>\n",
       "      <td>0.3765</td>\n",
       "      <td>0.4950</td>\n",
       "      <td>12</td>\n",
       "    </tr>\n",
       "  </tbody>\n",
       "</table>\n",
       "<p>4176 rows × 9 columns</p>\n",
       "</div>"
      ],
      "text/plain": [
       "      M  0.455  0.365  0.095   0.514  0.2245   0.101    0.15  15\n",
       "0     M  0.350  0.265  0.090  0.2255  0.0995  0.0485  0.0700   7\n",
       "1     F  0.530  0.420  0.135  0.6770  0.2565  0.1415  0.2100   9\n",
       "2     M  0.440  0.365  0.125  0.5160  0.2155  0.1140  0.1550  10\n",
       "3     I  0.330  0.255  0.080  0.2050  0.0895  0.0395  0.0550   7\n",
       "4     I  0.425  0.300  0.095  0.3515  0.1410  0.0775  0.1200   8\n",
       "...  ..    ...    ...    ...     ...     ...     ...     ...  ..\n",
       "4171  F  0.565  0.450  0.165  0.8870  0.3700  0.2390  0.2490  11\n",
       "4172  M  0.590  0.440  0.135  0.9660  0.4390  0.2145  0.2605  10\n",
       "4173  M  0.600  0.475  0.205  1.1760  0.5255  0.2875  0.3080   9\n",
       "4174  F  0.625  0.485  0.150  1.0945  0.5310  0.2610  0.2960  10\n",
       "4175  M  0.710  0.555  0.195  1.9485  0.9455  0.3765  0.4950  12\n",
       "\n",
       "[4176 rows x 9 columns]"
      ]
     },
     "execution_count": 166,
     "metadata": {},
     "output_type": "execute_result"
    }
   ],
   "source": [
    "Data = pd.read_csv('./abalone/abalone.data')\n",
    "df = pd.DataFrame(Data)\n",
    "df"
   ]
  },
  {
   "cell_type": "markdown",
   "id": "german-ultimate",
   "metadata": {},
   "source": [
    "#### Training data"
   ]
  },
  {
   "cell_type": "code",
   "execution_count": 167,
   "id": "drawn-institution",
   "metadata": {},
   "outputs": [],
   "source": [
    "# feature vcetors\n",
    "X_tr = np.array(df.iloc[:-500,1:])\n",
    "# labels\n",
    "Y_tr = np.array(df.iloc[:-500,0])\n",
    "\n",
    "# swapping the labels to 1 or -1\n",
    "Y_tr[Y_tr == 'M'] = 1\n",
    "Y_tr[Y_tr == 'F'] = 1\n",
    "Y_tr[Y_tr == 'I'] = -1"
   ]
  },
  {
   "cell_type": "markdown",
   "id": "healthy-storage",
   "metadata": {},
   "source": [
    "#### Testing data"
   ]
  },
  {
   "cell_type": "code",
   "execution_count": 168,
   "id": "computational-forward",
   "metadata": {},
   "outputs": [],
   "source": [
    "# feature vcetors\n",
    "X_ts = np.array(df.iloc[-500:,1:])\n",
    "# labels\n",
    "Y_ts = np.array(df.iloc[-500:,0])\n",
    "\n",
    "# swapping the labels to 1 or -1\n",
    "Y_ts[Y_ts == 'M'] = 1\n",
    "Y_ts[Y_ts == 'F'] = 1\n",
    "Y_ts[Y_ts == 'I'] = -1"
   ]
  },
  {
   "cell_type": "code",
   "execution_count": 169,
   "id": "fundamental-royal",
   "metadata": {},
   "outputs": [
    {
     "data": {
      "text/plain": [
       "3676"
      ]
     },
     "execution_count": 169,
     "metadata": {},
     "output_type": "execute_result"
    }
   ],
   "source": [
    "X_tr.shape[0]"
   ]
  },
  {
   "cell_type": "markdown",
   "id": "indoor-tennessee",
   "metadata": {},
   "source": [
    "## Trying out the models"
   ]
  },
  {
   "cell_type": "code",
   "execution_count": 170,
   "id": "rational-reputation",
   "metadata": {},
   "outputs": [],
   "source": [
    "epochs = 20"
   ]
  },
  {
   "cell_type": "markdown",
   "id": "scheduled-question",
   "metadata": {},
   "source": [
    "### vanilla"
   ]
  },
  {
   "cell_type": "code",
   "execution_count": 171,
   "id": "centered-occupation",
   "metadata": {},
   "outputs": [
    {
     "name": "stdout",
     "output_type": "stream",
     "text": [
      "no: of false prediction in epoch 0: 93\n",
      "no: of false prediction in epoch 1: 114\n",
      "no: of false prediction in epoch 2: 115\n",
      "no: of false prediction in epoch 3: 114\n",
      "no: of false prediction in epoch 4: 115\n",
      "no: of false prediction in epoch 5: 111\n",
      "no: of false prediction in epoch 6: 97\n",
      "no: of false prediction in epoch 7: 113\n",
      "no: of false prediction in epoch 8: 97\n",
      "no: of false prediction in epoch 9: 96\n",
      "no: of false prediction in epoch 10: 98\n",
      "no: of false prediction in epoch 11: 97\n",
      "no: of false prediction in epoch 12: 112\n",
      "no: of false prediction in epoch 13: 112\n",
      "no: of false prediction in epoch 14: 112\n",
      "no: of false prediction in epoch 15: 99\n",
      "no: of false prediction in epoch 16: 102\n",
      "no: of false prediction in epoch 17: 102\n",
      "no: of false prediction in epoch 18: 113\n",
      "no: of false prediction in epoch 19: 111\n"
     ]
    }
   ],
   "source": [
    "eff_van, w1, b1 = Vanilla(X_tr, Y_tr, X_ts, Y_ts, epochs = epochs)"
   ]
  },
  {
   "cell_type": "markdown",
   "id": "proper-devices",
   "metadata": {},
   "source": [
    "### voted"
   ]
  },
  {
   "cell_type": "code",
   "execution_count": 172,
   "id": "romance-journalism",
   "metadata": {},
   "outputs": [
    {
     "name": "stdout",
     "output_type": "stream",
     "text": [
      "no: of false prediction in epoch 0: 133\n",
      "no: of false prediction in epoch 1: 109\n",
      "no: of false prediction in epoch 2: 106\n",
      "no: of false prediction in epoch 3: 100\n",
      "no: of false prediction in epoch 4: 100\n",
      "no: of false prediction in epoch 5: 99\n",
      "no: of false prediction in epoch 6: 100\n",
      "no: of false prediction in epoch 7: 100\n",
      "no: of false prediction in epoch 8: 100\n",
      "no: of false prediction in epoch 9: 97\n",
      "no: of false prediction in epoch 10: 100\n",
      "no: of false prediction in epoch 11: 101\n",
      "no: of false prediction in epoch 12: 101\n",
      "no: of false prediction in epoch 13: 101\n",
      "no: of false prediction in epoch 14: 100\n",
      "no: of false prediction in epoch 15: 102\n",
      "no: of false prediction in epoch 16: 100\n",
      "no: of false prediction in epoch 17: 100\n",
      "no: of false prediction in epoch 18: 102\n",
      "no: of false prediction in epoch 19: 103\n"
     ]
    }
   ],
   "source": [
    "eff_vot, w1, b1 = Voted(X_tr, Y_tr, X_ts, Y_ts, epochs = epochs)"
   ]
  },
  {
   "cell_type": "markdown",
   "id": "conservative-lodge",
   "metadata": {},
   "source": [
    "## Comparison"
   ]
  },
  {
   "cell_type": "code",
   "execution_count": 173,
   "id": "employed-baptist",
   "metadata": {},
   "outputs": [
    {
     "data": {
      "image/png": "[encoded data removed]",
      "text/plain": [
       "<Figure size 432x288 with 1 Axes>"
      ]
     },
     "metadata": {
      "needs_background": "light"
     },
     "output_type": "display_data"
    }
   ],
   "source": [
    "ep = range(epochs)\n",
    "plt.plot(ep, eff_van, label = 'vanilla perceptron')\n",
    "plt.plot(ep, eff_vot, label = 'voted perceptron')\n",
    "plt.ylabel('Efficiancy (%)')\n",
    "plt.xlabel('epoch')\n",
    "plt.legend()\n",
    "plt.show()"
   ]
  },
  {
   "cell_type": "code",
   "execution_count": null,
   "id": "transparent-pearl",
   "metadata": {},
   "outputs": [],
   "source": []
  },
  {
   "cell_type": "code",
   "execution_count": null,
   "id": "grave-amazon",
   "metadata": {},
   "outputs": [],
   "source": []
  },
  {
   "cell_type": "code",
   "execution_count": null,
   "id": "assigned-insight",
   "metadata": {},
   "outputs": [],
   "source": []
  },
  {
   "cell_type": "code",
   "execution_count": 174,
   "id": "removable-tooth",
   "metadata": {},
   "outputs": [],
   "source": [
    "# data = []\n",
    "# for i in range(len(dat)):\n",
    "#     a = np.insert(dat[i], 1, 1 if dat[i][0] == 'M' else np.insert(dat[i], -1, 1) )\n",
    "#     data.append(list(a))"
   ]
  },
  {
   "cell_type": "code",
   "execution_count": 175,
   "id": "dynamic-april",
   "metadata": {},
   "outputs": [
    {
     "data": {
      "text/plain": [
       "array([18, 16,  8])"
      ]
     },
     "execution_count": 175,
     "metadata": {},
     "output_type": "execute_result"
    }
   ],
   "source": [
    "np.multiply([9,8,4],[2])"
   ]
  },
  {
   "cell_type": "code",
   "execution_count": 176,
   "id": "proprietary-observer",
   "metadata": {},
   "outputs": [
    {
     "name": "stderr",
     "output_type": "stream",
     "text": [
      "/usr/lib/python3.9/site-packages/numpy/core/_asarray.py:102: VisibleDeprecationWarning: Creating an ndarray from ragged nested sequences (which is a list-or-tuple of lists-or-tuples-or ndarrays with different lengths or shapes) is deprecated. If you meant to do this, you must specify 'dtype=object' when creating the ndarray.\n",
      "  return array(a, dtype, copy=False, order=order)\n"
     ]
    },
    {
     "data": {
      "text/plain": [
       "array([0,\n",
       "       list(['M', 1, 0.35, 0.265, 0.09, 0.2255, 0.0995, 0.0485, 0.07, 7]),\n",
       "       0, ...,\n",
       "       list(['M', 1, 0.6, 0.475, 0.205, 1.176, 0.5255, 0.2875, 0.308, 9]),\n",
       "       list(['F', 'F', 0.625, 0.485, 0.15, 1.0945, 0.531, 0.261, 0.296, 1, 10, 0.625, 0.485, 0.15, 1.0945, 0.531, 0.261, 0.296, 10]),\n",
       "       list(['M', 1, 0.71, 0.555, 0.195, 1.9485, 0.9455, 0.3765, 0.495, 12])],\n",
       "      dtype=object)"
      ]
     },
     "execution_count": 176,
     "metadata": {},
     "output_type": "execute_result"
    }
   ],
   "source": [
    "a = np.arange(1, 9, 1)\n",
    "a = np.insert(data, (0,1), 0)\n",
    "a"
   ]
  },
  {
   "cell_type": "code",
   "execution_count": 177,
   "id": "accessible-calculator",
   "metadata": {},
   "outputs": [
    {
     "data": {
      "text/plain": [
       "-1"
      ]
     },
     "execution_count": 177,
     "metadata": {},
     "output_type": "execute_result"
    }
   ],
   "source": [
    "np.sign(-9)"
   ]
  },
  {
   "cell_type": "code",
   "execution_count": null,
   "id": "promising-switch",
   "metadata": {},
   "outputs": [],
   "source": []
  }
 ],
 "metadata": {
  "kernelspec": {
   "display_name": "Python 3",
   "language": "python",
   "name": "python3"
  },
  "language_info": {
   "codemirror_mode": {
    "name": "ipython",
    "version": 3
   },
   "file_extension": ".py",
   "mimetype": "text/x-python",
   "name": "python",
   "nbconvert_exporter": "python",
   "pygments_lexer": "ipython3",
   "version": "3.9.5"
  }
 },
 "nbformat": 4,
 "nbformat_minor": 5
}
